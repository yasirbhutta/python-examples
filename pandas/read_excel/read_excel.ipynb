{
 "cells": [
  {
   "cell_type": "markdown",
   "metadata": {},
   "source": [
    "**Read Data from Excel File**"
   ]
  },
  {
   "cell_type": "markdown",
   "metadata": {},
   "source": [
    "Youtube@YasirBhutta"
   ]
  },
  {
   "cell_type": "code",
   "execution_count": 12,
   "metadata": {},
   "outputs": [
    {
     "name": "stdout",
     "output_type": "stream",
     "text": [
      "        Column1   Column2  Column3 Column4\n",
      "0  Data Point 1  Value A1       10     Yes\n",
      "1  Data Point 2  Value B2       20      No\n",
      "2  Data Point 3  Value C3       30   Maybe\n",
      "3  Data Point 4  Value D4       40     Yes\n",
      "4  Data Point 5  Value E5       50      No\n",
      "5  Data Point 6  Value E6       50      No\n",
      "6  Data Point 7  Value E7       40     Yes\n"
     ]
    }
   ],
   "source": [
    "import pandas as pd\n",
    "\n",
    "data = pd.read_excel('ds1.xlsx', sheet_name='Sheet1')\n",
    "\n",
    "# Get the second column\n",
    "column_data = data['Column2']\n",
    "\n",
    "# Get the first 5 rows\n",
    "first_five = data.head()\n",
    "\n",
    "# Get specific rows and columns\n",
    "subset = data.iloc[2:5, 1:3]\n",
    "\n",
    "# Print the DataFrame (optional)\n",
    "#print(column_data)\n",
    "#print(subset)\n",
    "#print(first_five)\n",
    "print(data)"
   ]
  }
 ],
 "metadata": {
  "kernelspec": {
   "display_name": "Python 3",
   "language": "python",
   "name": "python3"
  },
  "language_info": {
   "codemirror_mode": {
    "name": "ipython",
    "version": 3
   },
   "file_extension": ".py",
   "mimetype": "text/x-python",
   "name": "python",
   "nbconvert_exporter": "python",
   "pygments_lexer": "ipython3",
   "version": "3.12.1"
  },
  "orig_nbformat": 4,
  "vscode": {
   "interpreter": {
    "hash": "31f2aee4e71d21fbe5cf8b01ff0e069b9275f58929596ceb00d14d90e3e16cd6"
   }
  }
 },
 "nbformat": 4,
 "nbformat_minor": 2
}
