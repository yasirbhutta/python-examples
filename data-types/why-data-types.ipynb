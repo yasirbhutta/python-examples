{
 "cells": [
  {
   "cell_type": "markdown",
   "metadata": {},
   "source": [
    "**Python data types - Why Use Data Types?**"
   ]
  },
  {
   "cell_type": "markdown",
   "metadata": {},
   "source": [
    "Youtube@YasirBhutta"
   ]
  },
  {
   "cell_type": "markdown",
   "metadata": {},
   "source": [
    "**1. Memory Management:** Different data types use different amounts of memory. Choosing the appropriate data type can help manage memory usage effectively."
   ]
  },
  {
   "cell_type": "code",
   "execution_count": 10,
   "metadata": {},
   "outputs": [
    {
     "name": "stdout",
     "output_type": "stream",
     "text": [
      "Memory used by integer: 28 bytes\n",
      "Memory used by float: 24 bytes\n",
      "Memory used by string: 47 bytes\n"
     ]
    }
   ],
   "source": [
    "# Example: Memory usage of different data types\n",
    "\n",
    "import sys\n",
    "\n",
    "int_var = 123456\n",
    "float_var = 123456.0\n",
    "str_var = \"123456\"\n",
    "\n",
    "print(f\"Memory used by integer: {sys.getsizeof(int_var)} bytes\")\n",
    "print(f\"Memory used by float: {sys.getsizeof(float_var)} bytes\")\n",
    "print(f\"Memory used by string: {sys.getsizeof(str_var)} bytes\")"
   ]
  },
  {
   "cell_type": "markdown",
   "metadata": {},
   "source": [
    "**2. Ensuring Correct Operations:** Data types ensure that operations are performed correctly. For instance, you can't concatenate a string with an integer directly."
   ]
  },
  {
   "cell_type": "code",
   "execution_count": 17,
   "metadata": {},
   "outputs": [
    {
     "name": "stdout",
     "output_type": "stream",
     "text": [
      "Ahmad is 25 years old.\n"
     ]
    }
   ],
   "source": [
    "# Example: Concatenating a string and an integer\n",
    "\n",
    "name = \"Ahmad\"\n",
    "age = 25\n",
    "\n",
    "# This will cause an error\n",
    "#print(name + age)\n",
    "\n",
    "# Correct way to concatenate a string and an integer\n",
    "print(name + \" is \" + str(age) + \" years old.\")"
   ]
  },
  {
   "cell_type": "markdown",
   "metadata": {},
   "source": [
    "**3. Performance Optimization:** Using the right data type can improve the performance of your program."
   ]
  },
  {
   "cell_type": "code",
   "execution_count": 15,
   "metadata": {},
   "outputs": [
    {
     "name": "stdout",
     "output_type": "stream",
     "text": [
      "Time taken for integer addition: 92.28376 seconds\n",
      "Time taken for float addition: 97.44220 seconds\n"
     ]
    }
   ],
   "source": [
    "import time\n",
    "\n",
    "iterations = 10**9 # interations = 1,000,000,000\n",
    "\n",
    "# Using integers\n",
    "start_time = time.time()\n",
    "sum_int = 0\n",
    "for i in range(iterations):\n",
    "    sum_int += 1\n",
    "end_time = time.time()\n",
    "int_time = end_time - start_time\n",
    "print(f\"Time taken for integer addition: {int_time:.5f} seconds\")\n",
    "\n",
    "# Using floats\n",
    "start_time = time.time()\n",
    "sum_float = 0.0\n",
    "for i in range(iterations):\n",
    "    sum_float += 1.0\n",
    "end_time = time.time()\n",
    "float_time = end_time - start_time\n",
    "print(f\"Time taken for float addition: {float_time:.5f} seconds\")\n"
   ]
  }
 ],
 "metadata": {
  "kernelspec": {
   "display_name": "Python 3",
   "language": "python",
   "name": "python3"
  },
  "language_info": {
   "codemirror_mode": {
    "name": "ipython",
    "version": 3
   },
   "file_extension": ".py",
   "mimetype": "text/x-python",
   "name": "python",
   "nbconvert_exporter": "python",
   "pygments_lexer": "ipython3",
   "version": "3.12.1"
  },
  "orig_nbformat": 4,
  "vscode": {
   "interpreter": {
    "hash": "31f2aee4e71d21fbe5cf8b01ff0e069b9275f58929596ceb00d14d90e3e16cd6"
   }
  }
 },
 "nbformat": 4,
 "nbformat_minor": 2
}
