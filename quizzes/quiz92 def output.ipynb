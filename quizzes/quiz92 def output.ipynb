{
 "cells": [
  {
   "cell_type": "markdown",
   "metadata": {},
   "source": [
    "**Python Code Challenge:**\n",
    "  - **What is the output of the following PYTHON code?**"
   ]
  },
  {
   "cell_type": "markdown",
   "metadata": {},
   "source": [
    "Youtube@YasirBhutta"
   ]
  },
  {
   "cell_type": "code",
<<<<<<< HEAD
   "execution_count": 1,
   "metadata": {},
   "outputs": [
    {
     "name": "stdout",
     "output_type": "stream",
     "text": [
      "5\n"
     ]
    }
   ],
   "source": [
    "def change_value(x):\n",
    "    x = 10\n",
    "num = 5\n",
    "change_value(num)\n",
    "print(num)"
=======
   "execution_count": null,
   "metadata": {},
   "outputs": [],
   "source": [
    "def my_func():\n",
    "  global x\n",
    "  x = 10\n",
    "\n",
    "x = 5\n",
    "my_func()\n",
    "print(x)"
>>>>>>> 79ff963848ced9bf5cb035d4f420d2478e722a0f
   ]
  },
  {
   "cell_type": "markdown",
   "metadata": {},
   "source": [
    "- **Options:**\n",
    "\n",
<<<<<<< HEAD
    "   - A) `5`  \n",
    "   - B) `10`  \n",
    "   - C) `Error`  \n",
    "   - D) `None` "
=======
    "     - A) `5`  \n",
    "     - B) `10`  \n",
    "     - C) `Error`  \n",
    "     - D) `None`"
>>>>>>> 79ff963848ced9bf5cb035d4f420d2478e722a0f
   ]
  }
 ],
 "metadata": {
  "kernelspec": {
   "display_name": "Python 3",
   "language": "python",
   "name": "python3"
  },
  "language_info": {
   "codemirror_mode": {
    "name": "ipython",
    "version": 3
   },
   "file_extension": ".py",
   "mimetype": "text/x-python",
   "name": "python",
   "nbconvert_exporter": "python",
   "pygments_lexer": "ipython3",
<<<<<<< HEAD
   "version": "3.11.9"
=======
   "version": "3.12.1"
>>>>>>> 79ff963848ced9bf5cb035d4f420d2478e722a0f
  },
  "orig_nbformat": 4,
  "vscode": {
   "interpreter": {
    "hash": "31f2aee4e71d21fbe5cf8b01ff0e069b9275f58929596ceb00d14d90e3e16cd6"
   }
  }
 },
 "nbformat": 4,
 "nbformat_minor": 2
}
