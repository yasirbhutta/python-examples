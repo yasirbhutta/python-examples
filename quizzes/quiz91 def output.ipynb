{
 "cells": [
  {
   "cell_type": "markdown",
   "metadata": {},
   "source": [
    "**Python Code Challenge:**\n",
<<<<<<< HEAD
    "  - **Which of the following function calls is invalid for this function definition?**"
=======
    "  - **What is the output of the following PYTHON code?**"
>>>>>>> 79ff963848ced9bf5cb035d4f420d2478e722a0f
   ]
  },
  {
   "cell_type": "markdown",
   "metadata": {},
   "source": [
    "Youtube@YasirBhutta"
   ]
  },
  {
   "cell_type": "code",
<<<<<<< HEAD
   "execution_count": 6,
   "metadata": {},
   "outputs": [],
   "source": [
    "def my_func(a, b=2, c=3):\n",
    "  return a + b + c\n"
=======
   "execution_count": 2,
   "metadata": {},
   "outputs": [
    {
     "name": "stdout",
     "output_type": "stream",
     "text": [
      "5\n"
     ]
    }
   ],
   "source": [
    "def change_value(x):\n",
    "  x = 10\n",
    "       \n",
    "num = 5\n",
    "change_value(num)\n",
    "print(num)"
>>>>>>> 79ff963848ced9bf5cb035d4f420d2478e722a0f
   ]
  },
  {
   "cell_type": "markdown",
   "metadata": {},
   "source": [
    "- **Options:**\n",
    "\n",
<<<<<<< HEAD
    "   - A) `my_func(1, 2)`  \n",
    "   - B) `my_func(1, 2, 4)`  \n",
    "   - C) `my_func(a=1, b=2, c=5)`  \n",
    "   - D) `my_func(1, c=4, b=2, 5)` "
=======
    "     - A) `5`  \n",
    "     - B) `10`  \n",
    "     - C) `Error`  \n",
    "     - D) `None`"
>>>>>>> 79ff963848ced9bf5cb035d4f420d2478e722a0f
   ]
  }
 ],
 "metadata": {
  "kernelspec": {
   "display_name": "Python 3",
   "language": "python",
   "name": "python3"
  },
  "language_info": {
   "codemirror_mode": {
    "name": "ipython",
    "version": 3
   },
   "file_extension": ".py",
   "mimetype": "text/x-python",
   "name": "python",
   "nbconvert_exporter": "python",
   "pygments_lexer": "ipython3",
<<<<<<< HEAD
   "version": "3.11.9"
=======
   "version": "3.12.1"
>>>>>>> 79ff963848ced9bf5cb035d4f420d2478e722a0f
  },
  "orig_nbformat": 4,
  "vscode": {
   "interpreter": {
    "hash": "31f2aee4e71d21fbe5cf8b01ff0e069b9275f58929596ceb00d14d90e3e16cd6"
   }
  }
 },
 "nbformat": 4,
 "nbformat_minor": 2
}
