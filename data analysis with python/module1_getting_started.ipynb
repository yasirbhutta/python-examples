{
 "cells": [
  {
   "cell_type": "markdown",
   "metadata": {},
   "source": [
    "Getting starting analyzing data in python"
   ]
  },
  {
   "cell_type": "markdown",
   "metadata": {},
   "source": [
    "Basic insight of data"
   ]
  },
  {
   "cell_type": "code",
   "execution_count": null,
   "metadata": {},
   "outputs": [],
   "source": [
    "import pandas as pd\n",
    "\n",
    "url = \"https://archive.ics.uci.edu/ml/machine-learning-databases/autos/imports-85.data\"\n",
    "headers = [\n",
    "    \"symboling\", \"normalized-losses\", \"make\", \"fuel-type\", \"aspiration\", \n",
    "    \"num-of-doors\", \"body-style\", \"drive-wheels\", \"engine-location\", \n",
    "    \"wheel-base\", \"length\", \"width\", \"height\", \"curb-weight\", \n",
    "    \"engine-type\", \"num-of-cylinders\", \"engine-size\", \"fuel-system\", \n",
    "    \"bore\", \"stroke\", \"compression-ratio\", \"horsepower\", \"peak-rpm\", \n",
    "    \"city-mpg\", \"highway-mpg\", \"price\"\n",
    "]\n",
    "df = pd.read_csv(url, names=headers)"
   ]
  },
  {
   "cell_type": "markdown",
   "metadata": {},
   "source": [
    "In Pandas, the dtypes attribute is used to obtain the data types of each column in a DataFrame."
   ]
  },
  {
   "cell_type": "code",
   "execution_count": null,
   "metadata": {},
   "outputs": [],
   "source": [
    "df.dtypes"
   ]
  },
  {
   "cell_type": "markdown",
   "metadata": {},
   "source": [
    "The `describe()` function in a Pandas DataFrame is used to generate descriptive statistics of the DataFrame's numerical columns. It provides a summary that includes:\n",
    "\n",
    "- **Count**: The number of non-null entries.\n",
    "- **Mean**: The average value.\n",
    "- **Standard Deviation (STD)**: A measure of the amount of variation or dispersion.\n",
    "- **Min**: The minimum value.\n",
    "- **25th Percentile (Q1)**: The first quartile.\n",
    "- **50th Percentile (Median)**: The median value.\n",
    "- **75th Percentile (Q3)**: The third quartile.\n",
    "- **Max**: The maximum value.\n",
    "\n",
    "### Using `include` Parameter:\n",
    "The `include` parameter allows you to specify which data types to include in the summary. For example:\n",
    "\n",
    "- `include='all'`: This will include statistics for all columns, regardless of their data type (numerical and categorical).\n",
    "- `include=['object']`: This will include statistics for only object-type columns (typically strings).\n"
   ]
  },
  {
   "cell_type": "code",
   "execution_count": null,
   "metadata": {},
   "outputs": [],
   "source": [
    "df.describe()\n",
    "\n",
    "df.describe(include=\"all\") # provide full summary statistics"
   ]
  },
  {
   "cell_type": "markdown",
   "metadata": {},
   "source": [
    "The info() function in a Pandas DataFrame provides a concise summary of the DataFrame's structure. "
   ]
  },
  {
   "cell_type": "code",
   "execution_count": null,
   "metadata": {},
   "outputs": [],
   "source": [
    "df.info()"
   ]
  }
 ],
 "metadata": {
  "kernelspec": {
   "display_name": "Python 3",
   "language": "python",
   "name": "python3"
  },
  "language_info": {
   "codemirror_mode": {
    "name": "ipython",
    "version": 3
   },
   "file_extension": ".py",
   "mimetype": "text/x-python",
   "name": "python",
   "nbconvert_exporter": "python",
   "pygments_lexer": "ipython3",
   "version": "3.12.1"
  }
 },
 "nbformat": 4,
 "nbformat_minor": 2
}
