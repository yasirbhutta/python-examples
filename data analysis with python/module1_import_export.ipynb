{
 "cells": [
  {
   "cell_type": "markdown",
   "metadata": {},
   "source": [
    "#### Importing and exporting data in python"
   ]
  },
  {
   "cell_type": "markdown",
   "metadata": {},
   "source": [
    "##### Importing data"
   ]
  },
  {
   "cell_type": "markdown",
   "metadata": {},
   "source": [
    "Dataset url: https://archive.ics.uci.edu/dataset/10/automobile"
   ]
  },
  {
   "cell_type": "code",
   "execution_count": null,
   "metadata": {},
   "outputs": [],
   "source": [
    "import pandas as pd\n",
    "\n",
    "url = \"https://archive.ics.uci.edu/ml/machine-learning-databases/autos/imports-85.data\"\n",
    "# Since this dataset doesn't have a header row, you might need to specify column names.\n",
    "# Refer to the dataset documentation for appropriate column names.\n",
    "df = pd.read_csv(url, header=None)\n",
    "\n",
    "# print(df.head())\n",
    "\n",
    "# print(df.tail())\n",
    "\n",
    "headers = [\n",
    "    \"symboling\", \"normalized-losses\", \"make\", \"fuel-type\", \"aspiration\", \n",
    "    \"num-of-doors\", \"body-style\", \"drive-wheels\", \"engine-location\", \n",
    "    \"wheel-base\", \"length\", \"width\", \"height\", \"curb-weight\", \n",
    "    \"engine-type\", \"num-of-cylinders\", \"engine-size\", \"fuel-system\", \n",
    "    \"bore\", \"stroke\", \"compression-ratio\", \"horsepower\", \"peak-rpm\", \n",
    "    \"city-mpg\", \"highway-mpg\", \"price\"\n",
    "]\n",
    "\n",
    "df.columns = headers\n",
    "\n",
    "path = \"automobile.csv\"\n",
    "\n",
    "df.to_csv(path)\n",
    "\n"
   ]
  }
 ],
 "metadata": {
  "kernelspec": {
   "display_name": "Python 3",
   "language": "python",
   "name": "python3"
  },
  "language_info": {
   "codemirror_mode": {
    "name": "ipython",
    "version": 3
   },
   "file_extension": ".py",
   "mimetype": "text/x-python",
   "name": "python",
   "nbconvert_exporter": "python",
   "pygments_lexer": "ipython3",
   "version": "3.12.1"
  }
 },
 "nbformat": 4,
 "nbformat_minor": 2
}
