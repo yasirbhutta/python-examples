{
 "cells": [
  {
   "cell_type": "markdown",
   "metadata": {},
   "source": [
    "[https://yasirbhutta.blogspot.com/](https://yasirbhutta.blogspot.com/)\n",
    "\n",
    "**Python tips|Convert integer to octal and hexadecimal**"
   ]
  },
  {
   "cell_type": "code",
   "execution_count": 7,
   "metadata": {},
   "outputs": [
    {
     "name": "stdout",
     "output_type": "stream",
     "text": [
      "0o100 0x40 0xff\n"
     ]
    }
   ],
   "source": [
    "print (oct(64), hex(64), hex(255))"
   ]
  }
 ],
 "metadata": {
  "kernelspec": {
   "display_name": "Python 3.10.7 64-bit",
   "language": "python",
   "name": "python3"
  },
  "language_info": {
   "codemirror_mode": {
    "name": "ipython",
    "version": 3
   },
   "file_extension": ".py",
   "mimetype": "text/x-python",
   "name": "python",
   "nbconvert_exporter": "python",
   "pygments_lexer": "ipython3",
   "version": "3.10.7"
  },
  "orig_nbformat": 4,
  "vscode": {
   "interpreter": {
    "hash": "57c14d4a209fe6a76d9d687bb656c3a35e74775571bbe7b44d0d54ed0a35afb3"
   }
  }
 },
 "nbformat": 4,
 "nbformat_minor": 2
}
