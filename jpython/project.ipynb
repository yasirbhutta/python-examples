{
 "cells": [
  {
   "cell_type": "markdown",
   "metadata": {},
   "source": [
    "[https://yasirbhutta.github.io/python/](https://yasirbhutta.github.io/python/)\n",
    "\n",
    "**Python while loop**"
   ]
  },
  {
   "cell_type": "code",
   "execution_count": null,
   "metadata": {},
   "outputs": [],
   "source": [
    "print('-- Help: type \"quit\" to exit --')\n",
    "while True:\n",
    "    num1 = input('Enter number to check is odd or even ')\n",
    "    if num1.lower() == 'quit':\n",
    "        break\n",
    "    elif int(num1)%2 == 0:\n",
    "        print ('Number is even: ', num1)\n",
    "    else:\n",
    "        print('Number is odd: ',num1)\n"
   ]
  }
 ],
 "metadata": {
  "kernelspec": {
   "display_name": "Python 3.10.7 64-bit",
   "language": "python",
   "name": "python3"
  },
  "language_info": {
   "codemirror_mode": {
    "name": "ipython",
    "version": 3
   },
   "file_extension": ".py",
   "mimetype": "text/x-python",
   "name": "python",
   "nbconvert_exporter": "python",
   "pygments_lexer": "ipython3",
   "version": "3.10.7"
  },
  "orig_nbformat": 4,
  "vscode": {
   "interpreter": {
    "hash": "57c14d4a209fe6a76d9d687bb656c3a35e74775571bbe7b44d0d54ed0a35afb3"
   }
  }
 },
 "nbformat": 4,
 "nbformat_minor": 2
}
