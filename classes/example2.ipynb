{
 "cells": [
  {
   "cell_type": "markdown",
   "metadata": {},
   "source": [
    "**Python Attributes – Class and Instance Attribute Example**"
   ]
  },
  {
   "cell_type": "markdown",
   "metadata": {},
   "source": [
    "Youtube@YasirBhutta"
   ]
  },
  {
   "cell_type": "code",
   "execution_count": 19,
   "metadata": {},
   "outputs": [
    {
     "name": "stdout",
     "output_type": "stream",
     "text": [
      "Pineapple\n",
      "Computer\n"
     ]
    }
   ],
   "source": [
    "# Class Creation\n",
    "\n",
    "class Product:\n",
    "    category = \"Grocery Item\" # Class Attribute\n",
    "    def __init__(self, name, brand, price):\n",
    "        self.name = name # instance attribute\n",
    "        self.brand = brand # instance attribute\n",
    "        self.price = price # instance attribute\n",
    "\n",
    "# Object Crection\n",
    "obj1 = Product(\"Pineapple\", \"ABC\", 800)\n",
    "obj2 = Product(\"Computer\", \"XYZ\", 6000)\n",
    "\n",
    "# Accessing the attributes\n",
    "# obj2.category\n",
    "\n",
    "# accessing the instance attribute\n",
    "print(obj1.name)\n",
    "print(obj2.name)"
   ]
  }
 ],
 "metadata": {
  "kernelspec": {
   "display_name": "Python 3",
   "language": "python",
   "name": "python3"
  },
  "language_info": {
   "codemirror_mode": {
    "name": "ipython",
    "version": 3
   },
   "file_extension": ".py",
   "mimetype": "text/x-python",
   "name": "python",
   "nbconvert_exporter": "python",
   "pygments_lexer": "ipython3",
   "version": "3.12.1"
  },
  "orig_nbformat": 4,
  "vscode": {
   "interpreter": {
    "hash": "31f2aee4e71d21fbe5cf8b01ff0e069b9275f58929596ceb00d14d90e3e16cd6"
   }
  }
 },
 "nbformat": 4,
 "nbformat_minor": 2
}
