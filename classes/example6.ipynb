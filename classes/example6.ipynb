{
 "cells": [
  {
   "cell_type": "markdown",
   "metadata": {},
   "source": [
    "**Python Class – Common Python Class Attribute Mistakes and How to Fix Them**"
   ]
  },
  {
   "cell_type": "markdown",
   "metadata": {},
   "source": [
    "Youtube@YasirBhutta"
   ]
  },
  {
   "cell_type": "code",
   "execution_count": 4,
   "metadata": {},
   "outputs": [
    {
     "name": "stdout",
     "output_type": "stream",
     "text": [
      "City Library Books: ['Data analysis for python']\n",
      "Community Library Books: ['Automate boring stuff with python']\n"
     ]
    }
   ],
   "source": [
    "class Library:\n",
    "    \n",
    "    def __init__(self, name):\n",
    "        self.name = name\n",
    "        self.books = [] # Instance attribute\n",
    "    def add_book(self,book):\n",
    "        self.books.append(book)\n",
    "    \n",
    "    def get_books(self):\n",
    "        return self.books\n",
    "    \n",
    "library1 = Library(\"City Library\")\n",
    "library2 = Library(\"Community Library\")\n",
    "\n",
    "library1.add_book(\"Data analysis for python\")\n",
    "library2.add_book(\"Automate boring stuff with python\")\n",
    "\n",
    "print(f\"{library1.name} Books: {library1.get_books()}\")\n",
    "print(f\"{library2.name} Books: {library2.get_books()}\")      "
   ]
  }
 ],
 "metadata": {
  "kernelspec": {
   "display_name": "Python 3",
   "language": "python",
   "name": "python3"
  },
  "language_info": {
   "codemirror_mode": {
    "name": "ipython",
    "version": 3
   },
   "file_extension": ".py",
   "mimetype": "text/x-python",
   "name": "python",
   "nbconvert_exporter": "python",
   "pygments_lexer": "ipython3",
   "version": "3.12.1"
  },
  "orig_nbformat": 4,
  "vscode": {
   "interpreter": {
    "hash": "31f2aee4e71d21fbe5cf8b01ff0e069b9275f58929596ceb00d14d90e3e16cd6"
   }
  }
 },
 "nbformat": 4,
 "nbformat_minor": 2
}
